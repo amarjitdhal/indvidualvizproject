{
 "cells": [
  {
   "cell_type": "markdown",
   "metadata": {},
   "source": [
    "Importing libraries"
   ]
  },
  {
   "cell_type": "code",
   "execution_count": 1,
   "metadata": {
    "collapsed": true
   },
   "outputs": [],
   "source": [
    "import pandas as pd\n",
    "import numpy as np"
   ]
  },
  {
   "cell_type": "code",
   "execution_count": 2,
   "metadata": {
    "collapsed": false
   },
   "outputs": [],
   "source": [
    "data = pd.read_csv('WDI_Data.csv')"
   ]
  },
  {
   "cell_type": "code",
   "execution_count": 3,
   "metadata": {
    "collapsed": false,
    "scrolled": false
   },
   "outputs": [
    {
     "data": {
      "text/plain": [
       "Index(['Country Name', 'Country Code', 'Series Name', 'Series Code',\n",
       "       '2005 [YR2005]', '2006 [YR2006]', '2007 [YR2007]', '2008 [YR2008]',\n",
       "       '2009 [YR2009]', '2010 [YR2010]', '2011 [YR2011]', '2012 [YR2012]',\n",
       "       '2013 [YR2013]', '2014 [YR2014]'],\n",
       "      dtype='object')"
      ]
     },
     "execution_count": 3,
     "metadata": {},
     "output_type": "execute_result"
    }
   ],
   "source": [
    "data.columns"
   ]
  },
  {
   "cell_type": "markdown",
   "metadata": {},
   "source": [
    "Renaming columns to more user friendly name"
   ]
  },
  {
   "cell_type": "code",
   "execution_count": 4,
   "metadata": {
    "collapsed": false
   },
   "outputs": [],
   "source": [
    "data = data.rename(index=str, columns={\"Country Name\": \"country_name\", \"Country Code\": \"country_code\",\"Series Name\": \"series_name\", \n",
    "                                       \"2005 [YR2005]\" : \"2005\",\"2006 [YR2006]\" : \"2006\", \"2007 [YR2007]\" : \"2007\", \"2008 [YR2008]\" : \"2008\",\n",
    "                                       \"2009 [YR2009]\" : \"2009\", \"2010 [YR2010]\" : \"2010\", \"2011 [YR2011]\" : \"2011\", \"2012 [YR2012]\" : \"2012\", \n",
    "                                       \"2013 [YR2013]\" : \"2013\", \"2014 [YR2014]\" : \"2014\"})"
   ]
  },
  {
   "cell_type": "code",
   "execution_count": 5,
   "metadata": {
    "collapsed": false
   },
   "outputs": [
    {
     "data": {
      "text/plain": [
       "Index(['country_name', 'country_code', 'series_name', 'Series Code', '2005',\n",
       "       '2006', '2007', '2008', '2009', '2010', '2011', '2012', '2013', '2014'],\n",
       "      dtype='object')"
      ]
     },
     "execution_count": 5,
     "metadata": {},
     "output_type": "execute_result"
    }
   ],
   "source": [
    "data.columns"
   ]
  },
  {
   "cell_type": "markdown",
   "metadata": {},
   "source": [
    "Series name. We will select the relevant columns as per our requirements"
   ]
  },
  {
   "cell_type": "code",
   "execution_count": 8,
   "metadata": {
    "collapsed": false
   },
   "outputs": [
    {
     "data": {
      "text/plain": [
       "array(['Adolescent fertility rate (births per 1,000 women ages 15-19)',\n",
       "       'Agriculture, value added (% of GDP)',\n",
       "       'Annual freshwater withdrawals, total (% of internal resources)',\n",
       "       'Births attended by skilled health staff (% of total)',\n",
       "       'Cash surplus/deficit (% of GDP)',\n",
       "       'CO2 emissions (metric tons per capita)',\n",
       "       'Contraceptive prevalence (% of women ages 15-49)',\n",
       "       'Domestic credit provided by financial sector (% of GDP)',\n",
       "       'Electric power consumption (kWh per capita)',\n",
       "       'Energy use (kg of oil equivalent per capita)',\n",
       "       'Exports of goods and services (% of GDP)',\n",
       "       'External debt stocks, total (DOD, current US$)',\n",
       "       'Fertility rate, total (births per woman)',\n",
       "       'Foreign direct investment, net inflows (BoP, current US$)',\n",
       "       'Forest area (sq. km)', 'GDP (current US$)',\n",
       "       'GDP growth (annual %)',\n",
       "       'GNI per capita, Atlas method (current US$)',\n",
       "       'GNI per capita, PPP (current international $)',\n",
       "       'GNI, Atlas method (current US$)',\n",
       "       'GNI, PPP (current international $)',\n",
       "       'Gross capital formation (% of GDP)',\n",
       "       'High-technology exports (% of manufactured exports)',\n",
       "       'Immunization, measles (% of children ages 12-23 months)',\n",
       "       'Imports of goods and services (% of GDP)',\n",
       "       'Improved sanitation facilities (% of population with access)',\n",
       "       'Improved water source (% of population with access)',\n",
       "       'Income share held by lowest 20%',\n",
       "       'Industry, value added (% of GDP)',\n",
       "       'Inflation, GDP deflator (annual %)',\n",
       "       'Internet users (per 100 people)',\n",
       "       'Life expectancy at birth, total (years)',\n",
       "       'Malnutrition prevalence, weight for age (% of children under 5)',\n",
       "       'Merchandise trade (% of GDP)', 'Military expenditure (% of GDP)',\n",
       "       'Mobile cellular subscriptions (per 100 people)',\n",
       "       'Mortality rate, under-5 (per 1,000 live births)',\n",
       "       'Net barter terms of trade index (2000 = 100)', 'Net migration',\n",
       "       'Net official development assistance and official aid received (current US$)',\n",
       "       'Overall level of statistical capacity (scale 0 - 100)',\n",
       "       'Personal remittances, received (current US$)',\n",
       "       'Population density (people per sq. km of land area)',\n",
       "       'Population growth (annual %)', 'Population, total',\n",
       "       'Poverty headcount ratio at $1.25 a day (PPP) (% of population)',\n",
       "       'Poverty headcount ratio at national poverty lines (% of population)',\n",
       "       'Prevalence of HIV, total (% of population ages 15-49)',\n",
       "       'Primary completion rate, total (% of relevant age group)',\n",
       "       'Ratio of girls to boys in primary and secondary education (%)',\n",
       "       'Revenue, excluding grants (% of GDP)',\n",
       "       'School enrollment, primary (% gross)',\n",
       "       'School enrollment, secondary (% gross)',\n",
       "       'Services, etc., value added (% of GDP)', 'Surface area (sq. km)',\n",
       "       'Tax revenue (% of GDP)',\n",
       "       'Terrestrial and marine protected areas (% of total territorial area)',\n",
       "       'Time required to start a business (days)',\n",
       "       'Total debt service (% of exports of goods, services and primary income)',\n",
       "       'Urban population growth (annual %)', nan], dtype=object)"
      ]
     },
     "execution_count": 8,
     "metadata": {},
     "output_type": "execute_result"
    }
   ],
   "source": [
    "(data.series_name.unique())"
   ]
  },
  {
   "cell_type": "markdown",
   "metadata": {},
   "source": [
    "Creating separate dataframe as per the required series"
   ]
  },
  {
   "cell_type": "code",
   "execution_count": 9,
   "metadata": {
    "collapsed": true
   },
   "outputs": [],
   "source": [
    "dfg = data[data.series_name == 'GDP growth (annual %)']\n",
    "dfi = data[data.series_name == 'Internet users (per 100 people)']\n",
    "dfm = data[data.series_name == 'Mobile cellular subscriptions (per 100 people)']\n",
    "dfp = data[data.series_name == 'Population density (people per sq. km of land area)']\n",
    "dfpt = data[data.series_name == 'Population, total']\n",
    "dfs = data[data.series_name == 'School enrollment, primary (% gross)']\n",
    "dft = data[data.series_name == 'Time required to start a business (days)']\n",
    "dfe = data[data.series_name == 'Electric power consumption (kWh per capita)']"
   ]
  },
  {
   "cell_type": "code",
   "execution_count": 10,
   "metadata": {
    "collapsed": false
   },
   "outputs": [
    {
     "data": {
      "text/html": [
       "<div>\n",
       "<table border=\"1\" class=\"dataframe\">\n",
       "  <thead>\n",
       "    <tr style=\"text-align: right;\">\n",
       "      <th></th>\n",
       "      <th>country_name</th>\n",
       "      <th>country_code</th>\n",
       "      <th>series_name</th>\n",
       "      <th>Series Code</th>\n",
       "      <th>2005</th>\n",
       "      <th>2006</th>\n",
       "      <th>2007</th>\n",
       "      <th>2008</th>\n",
       "      <th>2009</th>\n",
       "      <th>2010</th>\n",
       "      <th>2011</th>\n",
       "      <th>2012</th>\n",
       "      <th>2013</th>\n",
       "      <th>2014</th>\n",
       "    </tr>\n",
       "  </thead>\n",
       "  <tbody>\n",
       "    <tr>\n",
       "      <th>16</th>\n",
       "      <td>Argentina</td>\n",
       "      <td>ARG</td>\n",
       "      <td>GDP growth (annual %)</td>\n",
       "      <td>NY.GDP.MKTP.KD.ZG</td>\n",
       "      <td>9.198488983</td>\n",
       "      <td>8.402868566</td>\n",
       "      <td>7.965573248</td>\n",
       "      <td>3.074945503</td>\n",
       "      <td>0.050024456</td>\n",
       "      <td>9.451578331</td>\n",
       "      <td>8.386451456</td>\n",
       "      <td>0.801760179</td>\n",
       "      <td>2.885351883</td>\n",
       "      <td>0.46925706</td>\n",
       "    </tr>\n",
       "    <tr>\n",
       "      <th>76</th>\n",
       "      <td>Australia</td>\n",
       "      <td>AUS</td>\n",
       "      <td>GDP growth (annual %)</td>\n",
       "      <td>NY.GDP.MKTP.KD.ZG</td>\n",
       "      <td>3.216467335</td>\n",
       "      <td>2.990667578</td>\n",
       "      <td>3.760144101</td>\n",
       "      <td>3.702292955</td>\n",
       "      <td>1.731817915</td>\n",
       "      <td>1.962366101</td>\n",
       "      <td>2.321478902</td>\n",
       "      <td>3.727818428</td>\n",
       "      <td>2.511938261</td>\n",
       "      <td>2.474910319</td>\n",
       "    </tr>\n",
       "    <tr>\n",
       "      <th>136</th>\n",
       "      <td>Brazil</td>\n",
       "      <td>BRA</td>\n",
       "      <td>GDP growth (annual %)</td>\n",
       "      <td>NY.GDP.MKTP.KD.ZG</td>\n",
       "      <td>3.148900043</td>\n",
       "      <td>3.999324276</td>\n",
       "      <td>6.005801827</td>\n",
       "      <td>5.019316013</td>\n",
       "      <td>-0.235978102</td>\n",
       "      <td>7.572067155</td>\n",
       "      <td>3.916382188</td>\n",
       "      <td>1.762488805</td>\n",
       "      <td>2.74369665</td>\n",
       "      <td>0.144707354</td>\n",
       "    </tr>\n",
       "    <tr>\n",
       "      <th>196</th>\n",
       "      <td>China</td>\n",
       "      <td>CHN</td>\n",
       "      <td>GDP growth (annual %)</td>\n",
       "      <td>NY.GDP.MKTP.KD.ZG</td>\n",
       "      <td>11.35239142</td>\n",
       "      <td>12.6882251</td>\n",
       "      <td>14.19496167</td>\n",
       "      <td>9.623377486</td>\n",
       "      <td>9.233551095</td>\n",
       "      <td>10.63170823</td>\n",
       "      <td>9.484506202</td>\n",
       "      <td>7.750297593</td>\n",
       "      <td>7.68380997</td>\n",
       "      <td>7.351000022</td>\n",
       "    </tr>\n",
       "    <tr>\n",
       "      <th>256</th>\n",
       "      <td>France</td>\n",
       "      <td>FRA</td>\n",
       "      <td>GDP growth (annual %)</td>\n",
       "      <td>NY.GDP.MKTP.KD.ZG</td>\n",
       "      <td>1.607715493</td>\n",
       "      <td>2.374944836</td>\n",
       "      <td>2.361502077</td>\n",
       "      <td>0.195293168</td>\n",
       "      <td>-2.941338664</td>\n",
       "      <td>1.965657819</td>\n",
       "      <td>2.079228327</td>\n",
       "      <td>0.182689429</td>\n",
       "      <td>0.656488993</td>\n",
       "      <td>0.179563041</td>\n",
       "    </tr>\n",
       "  </tbody>\n",
       "</table>\n",
       "</div>"
      ],
      "text/plain": [
       "    country_name country_code            series_name        Series Code  \\\n",
       "16     Argentina          ARG  GDP growth (annual %)  NY.GDP.MKTP.KD.ZG   \n",
       "76     Australia          AUS  GDP growth (annual %)  NY.GDP.MKTP.KD.ZG   \n",
       "136       Brazil          BRA  GDP growth (annual %)  NY.GDP.MKTP.KD.ZG   \n",
       "196        China          CHN  GDP growth (annual %)  NY.GDP.MKTP.KD.ZG   \n",
       "256       France          FRA  GDP growth (annual %)  NY.GDP.MKTP.KD.ZG   \n",
       "\n",
       "            2005         2006         2007         2008          2009  \\\n",
       "16   9.198488983  8.402868566  7.965573248  3.074945503   0.050024456   \n",
       "76   3.216467335  2.990667578  3.760144101  3.702292955   1.731817915   \n",
       "136  3.148900043  3.999324276  6.005801827  5.019316013  -0.235978102   \n",
       "196  11.35239142   12.6882251  14.19496167  9.623377486   9.233551095   \n",
       "256  1.607715493  2.374944836  2.361502077  0.195293168  -2.941338664   \n",
       "\n",
       "            2010         2011         2012         2013         2014  \n",
       "16   9.451578331  8.386451456  0.801760179  2.885351883   0.46925706  \n",
       "76   1.962366101  2.321478902  3.727818428  2.511938261  2.474910319  \n",
       "136  7.572067155  3.916382188  1.762488805   2.74369665  0.144707354  \n",
       "196  10.63170823  9.484506202  7.750297593   7.68380997  7.351000022  \n",
       "256  1.965657819  2.079228327  0.182689429  0.656488993  0.179563041  "
      ]
     },
     "execution_count": 10,
     "metadata": {},
     "output_type": "execute_result"
    }
   ],
   "source": [
    "dfg.head()"
   ]
  },
  {
   "cell_type": "markdown",
   "metadata": {},
   "source": [
    "Selecting only the required columns"
   ]
  },
  {
   "cell_type": "code",
   "execution_count": 11,
   "metadata": {
    "collapsed": false
   },
   "outputs": [],
   "source": [
    "dfg = dfg[['country_name','2005','2006','2007','2008','2009','2010','2011','2012','2013','2014']]\n",
    "dfi = dfi[['country_name','2005','2006','2007','2008','2009','2010','2011','2012','2013','2014']]\n",
    "dfm = dfm[['country_name','2005','2006','2007','2008','2009','2010','2011','2012','2013','2014']]\n",
    "dfp = dfp[['country_name','2005','2006','2007','2008','2009','2010','2011','2012','2013','2014']]\n",
    "dfpt = dfpt[['country_name','2005','2006','2007','2008','2009','2010','2011','2012','2013','2014']]\n",
    "dfs = dfs[['country_name','2005','2006','2007','2008','2009','2010','2011','2012','2013','2014']]\n",
    "dft = dft[['country_name','2005','2006','2007','2008','2009','2010','2011','2012','2013','2014']]\n",
    "dfe = dfe[['country_name','2005','2006','2007','2008','2009','2010','2011','2012','2013','2014']]"
   ]
  },
  {
   "cell_type": "code",
   "execution_count": 12,
   "metadata": {
    "collapsed": false
   },
   "outputs": [
    {
     "data": {
      "text/html": [
       "<div>\n",
       "<table border=\"1\" class=\"dataframe\">\n",
       "  <thead>\n",
       "    <tr style=\"text-align: right;\">\n",
       "      <th></th>\n",
       "      <th>country_name</th>\n",
       "      <th>2005</th>\n",
       "      <th>2006</th>\n",
       "      <th>2007</th>\n",
       "      <th>2008</th>\n",
       "      <th>2009</th>\n",
       "      <th>2010</th>\n",
       "      <th>2011</th>\n",
       "      <th>2012</th>\n",
       "      <th>2013</th>\n",
       "      <th>2014</th>\n",
       "    </tr>\n",
       "  </thead>\n",
       "  <tbody>\n",
       "    <tr>\n",
       "      <th>16</th>\n",
       "      <td>Argentina</td>\n",
       "      <td>9.198488983</td>\n",
       "      <td>8.402868566</td>\n",
       "      <td>7.965573248</td>\n",
       "      <td>3.074945503</td>\n",
       "      <td>0.050024456</td>\n",
       "      <td>9.451578331</td>\n",
       "      <td>8.386451456</td>\n",
       "      <td>0.801760179</td>\n",
       "      <td>2.885351883</td>\n",
       "      <td>0.46925706</td>\n",
       "    </tr>\n",
       "    <tr>\n",
       "      <th>76</th>\n",
       "      <td>Australia</td>\n",
       "      <td>3.216467335</td>\n",
       "      <td>2.990667578</td>\n",
       "      <td>3.760144101</td>\n",
       "      <td>3.702292955</td>\n",
       "      <td>1.731817915</td>\n",
       "      <td>1.962366101</td>\n",
       "      <td>2.321478902</td>\n",
       "      <td>3.727818428</td>\n",
       "      <td>2.511938261</td>\n",
       "      <td>2.474910319</td>\n",
       "    </tr>\n",
       "    <tr>\n",
       "      <th>136</th>\n",
       "      <td>Brazil</td>\n",
       "      <td>3.148900043</td>\n",
       "      <td>3.999324276</td>\n",
       "      <td>6.005801827</td>\n",
       "      <td>5.019316013</td>\n",
       "      <td>-0.235978102</td>\n",
       "      <td>7.572067155</td>\n",
       "      <td>3.916382188</td>\n",
       "      <td>1.762488805</td>\n",
       "      <td>2.74369665</td>\n",
       "      <td>0.144707354</td>\n",
       "    </tr>\n",
       "  </tbody>\n",
       "</table>\n",
       "</div>"
      ],
      "text/plain": [
       "    country_name         2005         2006         2007         2008  \\\n",
       "16     Argentina  9.198488983  8.402868566  7.965573248  3.074945503   \n",
       "76     Australia  3.216467335  2.990667578  3.760144101  3.702292955   \n",
       "136       Brazil  3.148900043  3.999324276  6.005801827  5.019316013   \n",
       "\n",
       "             2009         2010         2011         2012         2013  \\\n",
       "16    0.050024456  9.451578331  8.386451456  0.801760179  2.885351883   \n",
       "76    1.731817915  1.962366101  2.321478902  3.727818428  2.511938261   \n",
       "136  -0.235978102  7.572067155  3.916382188  1.762488805   2.74369665   \n",
       "\n",
       "            2014  \n",
       "16    0.46925706  \n",
       "76   2.474910319  \n",
       "136  0.144707354  "
      ]
     },
     "execution_count": 12,
     "metadata": {},
     "output_type": "execute_result"
    }
   ],
   "source": [
    "dfg.head(3)"
   ]
  },
  {
   "cell_type": "markdown",
   "metadata": {},
   "source": [
    "We need to unpivot the dataframe from wide format to long format. \n",
    "We have to bring all the years columns into one single column (year)."
   ]
  },
  {
   "cell_type": "code",
   "execution_count": 13,
   "metadata": {
    "collapsed": true
   },
   "outputs": [],
   "source": [
    "dfg = pd.melt(dfg, id_vars=['country_name'])\n",
    "dfi = pd.melt(dfi, id_vars=['country_name'])\n",
    "dfm = pd.melt(dfm, id_vars=['country_name'])\n",
    "dfp = pd.melt(dfp, id_vars=['country_name'])\n",
    "dfpt = pd.melt(dfpt, id_vars=['country_name'])\n",
    "dfs = pd.melt(dfs, id_vars=['country_name'])\n",
    "dft = pd.melt(dft, id_vars=['country_name'])\n",
    "dfe = pd.melt(dfe, id_vars=['country_name'])"
   ]
  },
  {
   "cell_type": "code",
   "execution_count": 14,
   "metadata": {
    "collapsed": false
   },
   "outputs": [
    {
     "data": {
      "text/html": [
       "<div>\n",
       "<table border=\"1\" class=\"dataframe\">\n",
       "  <thead>\n",
       "    <tr style=\"text-align: right;\">\n",
       "      <th></th>\n",
       "      <th>country_name</th>\n",
       "      <th>variable</th>\n",
       "      <th>value</th>\n",
       "    </tr>\n",
       "  </thead>\n",
       "  <tbody>\n",
       "    <tr>\n",
       "      <th>0</th>\n",
       "      <td>Argentina</td>\n",
       "      <td>2005</td>\n",
       "      <td>9.198488983</td>\n",
       "    </tr>\n",
       "    <tr>\n",
       "      <th>1</th>\n",
       "      <td>Australia</td>\n",
       "      <td>2005</td>\n",
       "      <td>3.216467335</td>\n",
       "    </tr>\n",
       "    <tr>\n",
       "      <th>2</th>\n",
       "      <td>Brazil</td>\n",
       "      <td>2005</td>\n",
       "      <td>3.148900043</td>\n",
       "    </tr>\n",
       "  </tbody>\n",
       "</table>\n",
       "</div>"
      ],
      "text/plain": [
       "  country_name variable        value\n",
       "0    Argentina     2005  9.198488983\n",
       "1    Australia     2005  3.216467335\n",
       "2       Brazil     2005  3.148900043"
      ]
     },
     "execution_count": 14,
     "metadata": {},
     "output_type": "execute_result"
    }
   ],
   "source": [
    "dfg.head(3)"
   ]
  },
  {
   "cell_type": "markdown",
   "metadata": {},
   "source": [
    "Renaming the individual dataframe as per their value. Variable is year for all the dfs"
   ]
  },
  {
   "cell_type": "code",
   "execution_count": 15,
   "metadata": {
    "collapsed": false
   },
   "outputs": [],
   "source": [
    "dfg.columns = ['country_name','year','GDP_growth']\n",
    "dfi.columns = ['country_name','year','internet_user']\n",
    "dfm.columns = ['country_name','year','Mobile_subscriptions']\n",
    "dfp.columns = ['country_name','year','population_density']\n",
    "dfpt.columns = ['country_name','year','population_total']\n",
    "dfs.columns = ['country_name','year','school_enrollment']\n",
    "dft.columns = ['country_name','year','time_tostart_business']\n",
    "dfe.columns = ['country_name','year','electricity_consumption']"
   ]
  },
  {
   "cell_type": "code",
   "execution_count": 16,
   "metadata": {
    "collapsed": false
   },
   "outputs": [
    {
     "data": {
      "text/html": [
       "<div>\n",
       "<table border=\"1\" class=\"dataframe\">\n",
       "  <thead>\n",
       "    <tr style=\"text-align: right;\">\n",
       "      <th></th>\n",
       "      <th>country_name</th>\n",
       "      <th>year</th>\n",
       "      <th>internet_user</th>\n",
       "    </tr>\n",
       "  </thead>\n",
       "  <tbody>\n",
       "    <tr>\n",
       "      <th>0</th>\n",
       "      <td>Argentina</td>\n",
       "      <td>2005</td>\n",
       "      <td>17.72058337</td>\n",
       "    </tr>\n",
       "    <tr>\n",
       "      <th>1</th>\n",
       "      <td>Australia</td>\n",
       "      <td>2005</td>\n",
       "      <td>63</td>\n",
       "    </tr>\n",
       "    <tr>\n",
       "      <th>2</th>\n",
       "      <td>Brazil</td>\n",
       "      <td>2005</td>\n",
       "      <td>21.02274725</td>\n",
       "    </tr>\n",
       "  </tbody>\n",
       "</table>\n",
       "</div>"
      ],
      "text/plain": [
       "  country_name  year internet_user\n",
       "0    Argentina  2005   17.72058337\n",
       "1    Australia  2005            63\n",
       "2       Brazil  2005   21.02274725"
      ]
     },
     "execution_count": 16,
     "metadata": {},
     "output_type": "execute_result"
    }
   ],
   "source": [
    "dfi.head(3)"
   ]
  },
  {
   "cell_type": "markdown",
   "metadata": {},
   "source": [
    "Mergeing all the dataframes"
   ]
  },
  {
   "cell_type": "code",
   "execution_count": 17,
   "metadata": {
    "collapsed": false
   },
   "outputs": [],
   "source": [
    "t1 = dfi.merge(dfg)\n",
    "t2 = t1.merge(dfm)\n",
    "t3 = t2.merge(dfp)\n",
    "t4 = t3.merge(dfpt)\n",
    "t5 = t4.merge(dfs)\n",
    "t6 = t5.merge(dft)\n",
    "final = t6.merge(dfe)"
   ]
  },
  {
   "cell_type": "code",
   "execution_count": 109,
   "metadata": {
    "collapsed": false
   },
   "outputs": [
    {
     "data": {
      "text/html": [
       "<div>\n",
       "<table border=\"1\" class=\"dataframe\">\n",
       "  <thead>\n",
       "    <tr style=\"text-align: right;\">\n",
       "      <th></th>\n",
       "      <th>country_name</th>\n",
       "      <th>year</th>\n",
       "      <th>internet_user</th>\n",
       "      <th>GDP_growth</th>\n",
       "      <th>Mobile_subscriptions</th>\n",
       "      <th>population_density</th>\n",
       "      <th>population_total</th>\n",
       "      <th>school_enrollment</th>\n",
       "      <th>time_tostart_business</th>\n",
       "      <th>electricity_consumption</th>\n",
       "    </tr>\n",
       "  </thead>\n",
       "  <tbody>\n",
       "    <tr>\n",
       "      <th>0</th>\n",
       "      <td>Argentina</td>\n",
       "      <td>2005</td>\n",
       "      <td>17.72058337</td>\n",
       "      <td>9.198488983</td>\n",
       "      <td>57.32899426</td>\n",
       "      <td>14.12211613</td>\n",
       "      <td>38647854</td>\n",
       "      <td>113.11118</td>\n",
       "      <td>30</td>\n",
       "      <td>2423.705078</td>\n",
       "    </tr>\n",
       "    <tr>\n",
       "      <th>1</th>\n",
       "      <td>Australia</td>\n",
       "      <td>2005</td>\n",
       "      <td>63</td>\n",
       "      <td>3.216467335</td>\n",
       "      <td>89.76286231</td>\n",
       "      <td>2.654777866</td>\n",
       "      <td>20394800</td>\n",
       "      <td>101.51868</td>\n",
       "      <td>3</td>\n",
       "      <td>10458.45019</td>\n",
       "    </tr>\n",
       "    <tr>\n",
       "      <th>2</th>\n",
       "      <td>Brazil</td>\n",
       "      <td>2005</td>\n",
       "      <td>21.02274725</td>\n",
       "      <td>3.148900043</td>\n",
       "      <td>46.31418452</td>\n",
       "      <td>22.27079266</td>\n",
       "      <td>186142403</td>\n",
       "      <td>..</td>\n",
       "      <td>156</td>\n",
       "      <td>2015.634235</td>\n",
       "    </tr>\n",
       "    <tr>\n",
       "      <th>3</th>\n",
       "      <td>China</td>\n",
       "      <td>2005</td>\n",
       "      <td>8.523257003</td>\n",
       "      <td>11.35239142</td>\n",
       "      <td>29.84470593</td>\n",
       "      <td>138.8677661</td>\n",
       "      <td>1303720000</td>\n",
       "      <td>..</td>\n",
       "      <td>48</td>\n",
       "      <td>1783.87077</td>\n",
       "    </tr>\n",
       "    <tr>\n",
       "      <th>4</th>\n",
       "      <td>France</td>\n",
       "      <td>2005</td>\n",
       "      <td>42.87</td>\n",
       "      <td>1.607715493</td>\n",
       "      <td>78.26189586</td>\n",
       "      <td>115.3786024</td>\n",
       "      <td>63176246</td>\n",
       "      <td>107.67285</td>\n",
       "      <td>7</td>\n",
       "      <td>7655.583081</td>\n",
       "    </tr>\n",
       "  </tbody>\n",
       "</table>\n",
       "</div>"
      ],
      "text/plain": [
       "  country_name  year internet_user   GDP_growth Mobile_subscriptions  \\\n",
       "0    Argentina  2005   17.72058337  9.198488983          57.32899426   \n",
       "1    Australia  2005            63  3.216467335          89.76286231   \n",
       "2       Brazil  2005   21.02274725  3.148900043          46.31418452   \n",
       "3        China  2005   8.523257003  11.35239142          29.84470593   \n",
       "4       France  2005         42.87  1.607715493          78.26189586   \n",
       "\n",
       "  population_density population_total school_enrollment time_tostart_business  \\\n",
       "0        14.12211613         38647854         113.11118                    30   \n",
       "1        2.654777866         20394800         101.51868                     3   \n",
       "2        22.27079266        186142403                ..                   156   \n",
       "3        138.8677661       1303720000                ..                    48   \n",
       "4        115.3786024         63176246         107.67285                     7   \n",
       "\n",
       "  electricity_consumption  \n",
       "0             2423.705078  \n",
       "1             10458.45019  \n",
       "2             2015.634235  \n",
       "3              1783.87077  \n",
       "4             7655.583081  "
      ]
     },
     "execution_count": 109,
     "metadata": {},
     "output_type": "execute_result"
    }
   ],
   "source": [
    "final.head()"
   ]
  },
  {
   "cell_type": "code",
   "execution_count": 110,
   "metadata": {
    "collapsed": false
   },
   "outputs": [
    {
     "data": {
      "text/plain": [
       "country_name               object\n",
       "year                       object\n",
       "internet_user              object\n",
       "GDP_growth                 object\n",
       "Mobile_subscriptions       object\n",
       "population_density         object\n",
       "population_total           object\n",
       "school_enrollment          object\n",
       "time_tostart_business      object\n",
       "electricity_consumption    object\n",
       "dtype: object"
      ]
     },
     "execution_count": 110,
     "metadata": {},
     "output_type": "execute_result"
    }
   ],
   "source": [
    "final.dtypes"
   ]
  },
  {
   "cell_type": "markdown",
   "metadata": {},
   "source": [
    "We observe few values are missing, so replacing that value with 'NaN'"
   ]
  },
  {
   "cell_type": "code",
   "execution_count": 111,
   "metadata": {
    "collapsed": true
   },
   "outputs": [],
   "source": [
    "final = final.replace('..',np.NaN)"
   ]
  },
  {
   "cell_type": "markdown",
   "metadata": {},
   "source": [
    "Converting the object type to numeric type"
   ]
  },
  {
   "cell_type": "code",
   "execution_count": 113,
   "metadata": {
    "collapsed": true
   },
   "outputs": [],
   "source": [
    "df_final = final.apply(pd.to_numeric, errors='ignore')"
   ]
  },
  {
   "cell_type": "code",
   "execution_count": 121,
   "metadata": {
    "collapsed": false
   },
   "outputs": [
    {
     "data": {
      "text/plain": [
       "country_name                object\n",
       "year                         int64\n",
       "internet_user              float64\n",
       "GDP_growth                 float64\n",
       "Mobile_subscriptions       float64\n",
       "population_density         float64\n",
       "population_total             int64\n",
       "school_enrollment          float64\n",
       "time_tostart_business      float64\n",
       "electricity_consumption    float64\n",
       "dtype: object"
      ]
     },
     "execution_count": 121,
     "metadata": {},
     "output_type": "execute_result"
    }
   ],
   "source": [
    "df_final.dtypes"
   ]
  },
  {
   "cell_type": "code",
   "execution_count": 115,
   "metadata": {
    "collapsed": false
   },
   "outputs": [
    {
     "data": {
      "text/html": [
       "<div>\n",
       "<table border=\"1\" class=\"dataframe\">\n",
       "  <thead>\n",
       "    <tr style=\"text-align: right;\">\n",
       "      <th></th>\n",
       "      <th>year</th>\n",
       "      <th>internet_user</th>\n",
       "      <th>GDP_growth</th>\n",
       "      <th>Mobile_subscriptions</th>\n",
       "      <th>population_density</th>\n",
       "      <th>population_total</th>\n",
       "      <th>school_enrollment</th>\n",
       "      <th>time_tostart_business</th>\n",
       "      <th>electricity_consumption</th>\n",
       "    </tr>\n",
       "  </thead>\n",
       "  <tbody>\n",
       "    <tr>\n",
       "      <th>year</th>\n",
       "      <td>1.000000</td>\n",
       "      <td>0.335479</td>\n",
       "      <td>-0.215388</td>\n",
       "      <td>0.464819</td>\n",
       "      <td>0.018757</td>\n",
       "      <td>0.013879</td>\n",
       "      <td>0.118989</td>\n",
       "      <td>-0.193812</td>\n",
       "      <td>0.028919</td>\n",
       "    </tr>\n",
       "    <tr>\n",
       "      <th>internet_user</th>\n",
       "      <td>0.335479</td>\n",
       "      <td>1.000000</td>\n",
       "      <td>-0.553557</td>\n",
       "      <td>0.469413</td>\n",
       "      <td>0.313728</td>\n",
       "      <td>-0.483410</td>\n",
       "      <td>-0.277836</td>\n",
       "      <td>-0.463011</td>\n",
       "      <td>0.766023</td>\n",
       "    </tr>\n",
       "    <tr>\n",
       "      <th>GDP_growth</th>\n",
       "      <td>-0.215388</td>\n",
       "      <td>-0.553557</td>\n",
       "      <td>1.000000</td>\n",
       "      <td>-0.409943</td>\n",
       "      <td>-0.076392</td>\n",
       "      <td>0.532493</td>\n",
       "      <td>0.389410</td>\n",
       "      <td>0.246708</td>\n",
       "      <td>-0.380513</td>\n",
       "    </tr>\n",
       "    <tr>\n",
       "      <th>Mobile_subscriptions</th>\n",
       "      <td>0.464819</td>\n",
       "      <td>0.469413</td>\n",
       "      <td>-0.409943</td>\n",
       "      <td>1.000000</td>\n",
       "      <td>-0.110533</td>\n",
       "      <td>-0.517064</td>\n",
       "      <td>-0.281007</td>\n",
       "      <td>-0.279043</td>\n",
       "      <td>0.380093</td>\n",
       "    </tr>\n",
       "    <tr>\n",
       "      <th>population_density</th>\n",
       "      <td>0.018757</td>\n",
       "      <td>0.313728</td>\n",
       "      <td>-0.076392</td>\n",
       "      <td>-0.110533</td>\n",
       "      <td>1.000000</td>\n",
       "      <td>0.144452</td>\n",
       "      <td>0.060845</td>\n",
       "      <td>-0.221124</td>\n",
       "      <td>0.055289</td>\n",
       "    </tr>\n",
       "    <tr>\n",
       "      <th>population_total</th>\n",
       "      <td>0.013879</td>\n",
       "      <td>-0.483410</td>\n",
       "      <td>0.532493</td>\n",
       "      <td>-0.517064</td>\n",
       "      <td>0.144452</td>\n",
       "      <td>1.000000</td>\n",
       "      <td>0.664400</td>\n",
       "      <td>0.173823</td>\n",
       "      <td>-0.401058</td>\n",
       "    </tr>\n",
       "    <tr>\n",
       "      <th>school_enrollment</th>\n",
       "      <td>0.118989</td>\n",
       "      <td>-0.277836</td>\n",
       "      <td>0.389410</td>\n",
       "      <td>-0.281007</td>\n",
       "      <td>0.060845</td>\n",
       "      <td>0.664400</td>\n",
       "      <td>1.000000</td>\n",
       "      <td>0.273780</td>\n",
       "      <td>-0.489697</td>\n",
       "    </tr>\n",
       "    <tr>\n",
       "      <th>time_tostart_business</th>\n",
       "      <td>-0.193812</td>\n",
       "      <td>-0.463011</td>\n",
       "      <td>0.246708</td>\n",
       "      <td>-0.279043</td>\n",
       "      <td>-0.221124</td>\n",
       "      <td>0.173823</td>\n",
       "      <td>0.273780</td>\n",
       "      <td>1.000000</td>\n",
       "      <td>-0.474016</td>\n",
       "    </tr>\n",
       "    <tr>\n",
       "      <th>electricity_consumption</th>\n",
       "      <td>0.028919</td>\n",
       "      <td>0.766023</td>\n",
       "      <td>-0.380513</td>\n",
       "      <td>0.380093</td>\n",
       "      <td>0.055289</td>\n",
       "      <td>-0.401058</td>\n",
       "      <td>-0.489697</td>\n",
       "      <td>-0.474016</td>\n",
       "      <td>1.000000</td>\n",
       "    </tr>\n",
       "  </tbody>\n",
       "</table>\n",
       "</div>"
      ],
      "text/plain": [
       "                             year  internet_user  GDP_growth  \\\n",
       "year                     1.000000       0.335479   -0.215388   \n",
       "internet_user            0.335479       1.000000   -0.553557   \n",
       "GDP_growth              -0.215388      -0.553557    1.000000   \n",
       "Mobile_subscriptions     0.464819       0.469413   -0.409943   \n",
       "population_density       0.018757       0.313728   -0.076392   \n",
       "population_total         0.013879      -0.483410    0.532493   \n",
       "school_enrollment        0.118989      -0.277836    0.389410   \n",
       "time_tostart_business   -0.193812      -0.463011    0.246708   \n",
       "electricity_consumption  0.028919       0.766023   -0.380513   \n",
       "\n",
       "                         Mobile_subscriptions  population_density  \\\n",
       "year                                 0.464819            0.018757   \n",
       "internet_user                        0.469413            0.313728   \n",
       "GDP_growth                          -0.409943           -0.076392   \n",
       "Mobile_subscriptions                 1.000000           -0.110533   \n",
       "population_density                  -0.110533            1.000000   \n",
       "population_total                    -0.517064            0.144452   \n",
       "school_enrollment                   -0.281007            0.060845   \n",
       "time_tostart_business               -0.279043           -0.221124   \n",
       "electricity_consumption              0.380093            0.055289   \n",
       "\n",
       "                         population_total  school_enrollment  \\\n",
       "year                             0.013879           0.118989   \n",
       "internet_user                   -0.483410          -0.277836   \n",
       "GDP_growth                       0.532493           0.389410   \n",
       "Mobile_subscriptions            -0.517064          -0.281007   \n",
       "population_density               0.144452           0.060845   \n",
       "population_total                 1.000000           0.664400   \n",
       "school_enrollment                0.664400           1.000000   \n",
       "time_tostart_business            0.173823           0.273780   \n",
       "electricity_consumption         -0.401058          -0.489697   \n",
       "\n",
       "                         time_tostart_business  electricity_consumption  \n",
       "year                                 -0.193812                 0.028919  \n",
       "internet_user                        -0.463011                 0.766023  \n",
       "GDP_growth                            0.246708                -0.380513  \n",
       "Mobile_subscriptions                 -0.279043                 0.380093  \n",
       "population_density                   -0.221124                 0.055289  \n",
       "population_total                      0.173823                -0.401058  \n",
       "school_enrollment                     0.273780                -0.489697  \n",
       "time_tostart_business                 1.000000                -0.474016  \n",
       "electricity_consumption              -0.474016                 1.000000  "
      ]
     },
     "execution_count": 115,
     "metadata": {},
     "output_type": "execute_result"
    }
   ],
   "source": [
    "df_final.corr()"
   ]
  },
  {
   "cell_type": "markdown",
   "metadata": {},
   "source": [
    "<b> we observe a strong corelation between mobile phone subscription and internet users </b>"
   ]
  },
  {
   "cell_type": "markdown",
   "metadata": {},
   "source": [
    "Exporting the final df to create the file used for our visualization in Tableau"
   ]
  },
  {
   "cell_type": "code",
   "execution_count": 119,
   "metadata": {
    "collapsed": true
   },
   "outputs": [],
   "source": [
    "df_final.to_csv('VizFile.csv')"
   ]
  },
  {
   "cell_type": "markdown",
   "metadata": {
    "collapsed": true
   },
   "source": []
  },
  {
   "cell_type": "markdown",
   "metadata": {},
   "source": []
  },
  {
   "cell_type": "markdown",
   "metadata": {},
   "source": []
  },
  {
   "cell_type": "markdown",
   "metadata": {},
   "source": [
    "### To study how govt spends on education"
   ]
  },
  {
   "cell_type": "code",
   "execution_count": 19,
   "metadata": {
    "collapsed": true
   },
   "outputs": [],
   "source": [
    "datag = pd.read_csv(\"Govt_Spending_on_Education.csv\")"
   ]
  },
  {
   "cell_type": "code",
   "execution_count": 22,
   "metadata": {
    "collapsed": false
   },
   "outputs": [
    {
     "data": {
      "text/plain": [
       "Index(['Country Name', 'Country Code', 'Indicator Name', 'Indicator Code',\n",
       "       '1960', '1961', '1962', '1963', '1964', '1965', '1966', '1967', '1968',\n",
       "       '1969', '1970', '1971', '1972', '1973', '1974', '1975', '1976', '1977',\n",
       "       '1978', '1979', '1980', '1981', '1982', '1983', '1984', '1985', '1986',\n",
       "       '1987', '1988', '1989', '1990', '1991', '1992', '1993', '1994', '1995',\n",
       "       '1996', '1997', '1998', '1999', '2000', '2001', '2002', '2003', '2004',\n",
       "       '2005', '2006', '2007', '2008', '2009', '2010', '2011', '2012', '2013',\n",
       "       '2014', '2015', '2016'],\n",
       "      dtype='object')"
      ]
     },
     "execution_count": 22,
     "metadata": {},
     "output_type": "execute_result"
    }
   ],
   "source": [
    "datag.columns"
   ]
  },
  {
   "cell_type": "code",
   "execution_count": 23,
   "metadata": {
    "collapsed": true
   },
   "outputs": [],
   "source": [
    "datag = datag[['Country Name','2005','2006','2007','2008','2009','2010','2011','2012','2013','2014','2015','2016']]"
   ]
  },
  {
   "cell_type": "code",
   "execution_count": 25,
   "metadata": {
    "collapsed": false
   },
   "outputs": [
    {
     "data": {
      "text/html": [
       "<div>\n",
       "<table border=\"1\" class=\"dataframe\">\n",
       "  <thead>\n",
       "    <tr style=\"text-align: right;\">\n",
       "      <th></th>\n",
       "      <th>Country Name</th>\n",
       "      <th>2005</th>\n",
       "      <th>2006</th>\n",
       "      <th>2007</th>\n",
       "      <th>2008</th>\n",
       "      <th>2009</th>\n",
       "      <th>2010</th>\n",
       "      <th>2011</th>\n",
       "      <th>2012</th>\n",
       "      <th>2013</th>\n",
       "      <th>2014</th>\n",
       "      <th>2015</th>\n",
       "      <th>2016</th>\n",
       "    </tr>\n",
       "  </thead>\n",
       "  <tbody>\n",
       "    <tr>\n",
       "      <th>0</th>\n",
       "      <td>Aruba</td>\n",
       "      <td>4.68076</td>\n",
       "      <td>NaN</td>\n",
       "      <td>4.79918</td>\n",
       "      <td>4.91559</td>\n",
       "      <td>5.92467</td>\n",
       "      <td>6.71249</td>\n",
       "      <td>6.03687</td>\n",
       "      <td>6.55339</td>\n",
       "      <td>6.79629</td>\n",
       "      <td>6.13062</td>\n",
       "      <td>NaN</td>\n",
       "      <td>NaN</td>\n",
       "    </tr>\n",
       "    <tr>\n",
       "      <th>1</th>\n",
       "      <td>Afghanistan</td>\n",
       "      <td>NaN</td>\n",
       "      <td>NaN</td>\n",
       "      <td>NaN</td>\n",
       "      <td>NaN</td>\n",
       "      <td>NaN</td>\n",
       "      <td>3.46196</td>\n",
       "      <td>3.43785</td>\n",
       "      <td>2.52441</td>\n",
       "      <td>3.47171</td>\n",
       "      <td>3.77759</td>\n",
       "      <td>3.37581</td>\n",
       "      <td>NaN</td>\n",
       "    </tr>\n",
       "    <tr>\n",
       "      <th>2</th>\n",
       "      <td>Angola</td>\n",
       "      <td>2.77620</td>\n",
       "      <td>2.85969</td>\n",
       "      <td>NaN</td>\n",
       "      <td>NaN</td>\n",
       "      <td>NaN</td>\n",
       "      <td>3.47644</td>\n",
       "      <td>NaN</td>\n",
       "      <td>NaN</td>\n",
       "      <td>NaN</td>\n",
       "      <td>NaN</td>\n",
       "      <td>NaN</td>\n",
       "      <td>NaN</td>\n",
       "    </tr>\n",
       "    <tr>\n",
       "      <th>3</th>\n",
       "      <td>Albania</td>\n",
       "      <td>3.23872</td>\n",
       "      <td>3.15719</td>\n",
       "      <td>3.26868</td>\n",
       "      <td>NaN</td>\n",
       "      <td>NaN</td>\n",
       "      <td>NaN</td>\n",
       "      <td>NaN</td>\n",
       "      <td>NaN</td>\n",
       "      <td>3.53798</td>\n",
       "      <td>NaN</td>\n",
       "      <td>NaN</td>\n",
       "      <td>NaN</td>\n",
       "    </tr>\n",
       "    <tr>\n",
       "      <th>4</th>\n",
       "      <td>Andorra</td>\n",
       "      <td>1.60025</td>\n",
       "      <td>2.19399</td>\n",
       "      <td>2.07405</td>\n",
       "      <td>2.93457</td>\n",
       "      <td>3.16387</td>\n",
       "      <td>3.06580</td>\n",
       "      <td>3.15889</td>\n",
       "      <td>NaN</td>\n",
       "      <td>2.46258</td>\n",
       "      <td>3.06442</td>\n",
       "      <td>NaN</td>\n",
       "      <td>NaN</td>\n",
       "    </tr>\n",
       "  </tbody>\n",
       "</table>\n",
       "</div>"
      ],
      "text/plain": [
       "  Country Name     2005     2006     2007     2008     2009     2010     2011  \\\n",
       "0        Aruba  4.68076      NaN  4.79918  4.91559  5.92467  6.71249  6.03687   \n",
       "1  Afghanistan      NaN      NaN      NaN      NaN      NaN  3.46196  3.43785   \n",
       "2       Angola  2.77620  2.85969      NaN      NaN      NaN  3.47644      NaN   \n",
       "3      Albania  3.23872  3.15719  3.26868      NaN      NaN      NaN      NaN   \n",
       "4      Andorra  1.60025  2.19399  2.07405  2.93457  3.16387  3.06580  3.15889   \n",
       "\n",
       "      2012     2013     2014     2015  2016  \n",
       "0  6.55339  6.79629  6.13062      NaN   NaN  \n",
       "1  2.52441  3.47171  3.77759  3.37581   NaN  \n",
       "2      NaN      NaN      NaN      NaN   NaN  \n",
       "3      NaN  3.53798      NaN      NaN   NaN  \n",
       "4      NaN  2.46258  3.06442      NaN   NaN  "
      ]
     },
     "execution_count": 25,
     "metadata": {},
     "output_type": "execute_result"
    }
   ],
   "source": [
    "datag.head()"
   ]
  },
  {
   "cell_type": "code",
   "execution_count": 26,
   "metadata": {
    "collapsed": true
   },
   "outputs": [],
   "source": [
    "datag = pd.melt(datag, id_vars=['Country Name'])"
   ]
  },
  {
   "cell_type": "code",
   "execution_count": 27,
   "metadata": {
    "collapsed": false
   },
   "outputs": [
    {
     "data": {
      "text/html": [
       "<div>\n",
       "<table border=\"1\" class=\"dataframe\">\n",
       "  <thead>\n",
       "    <tr style=\"text-align: right;\">\n",
       "      <th></th>\n",
       "      <th>Country Name</th>\n",
       "      <th>variable</th>\n",
       "      <th>value</th>\n",
       "    </tr>\n",
       "  </thead>\n",
       "  <tbody>\n",
       "    <tr>\n",
       "      <th>0</th>\n",
       "      <td>Aruba</td>\n",
       "      <td>2005</td>\n",
       "      <td>4.68076</td>\n",
       "    </tr>\n",
       "    <tr>\n",
       "      <th>1</th>\n",
       "      <td>Afghanistan</td>\n",
       "      <td>2005</td>\n",
       "      <td>NaN</td>\n",
       "    </tr>\n",
       "    <tr>\n",
       "      <th>2</th>\n",
       "      <td>Angola</td>\n",
       "      <td>2005</td>\n",
       "      <td>2.77620</td>\n",
       "    </tr>\n",
       "    <tr>\n",
       "      <th>3</th>\n",
       "      <td>Albania</td>\n",
       "      <td>2005</td>\n",
       "      <td>3.23872</td>\n",
       "    </tr>\n",
       "    <tr>\n",
       "      <th>4</th>\n",
       "      <td>Andorra</td>\n",
       "      <td>2005</td>\n",
       "      <td>1.60025</td>\n",
       "    </tr>\n",
       "  </tbody>\n",
       "</table>\n",
       "</div>"
      ],
      "text/plain": [
       "  Country Name variable    value\n",
       "0        Aruba     2005  4.68076\n",
       "1  Afghanistan     2005      NaN\n",
       "2       Angola     2005  2.77620\n",
       "3      Albania     2005  3.23872\n",
       "4      Andorra     2005  1.60025"
      ]
     },
     "execution_count": 27,
     "metadata": {},
     "output_type": "execute_result"
    }
   ],
   "source": [
    "datag.head()"
   ]
  },
  {
   "cell_type": "code",
   "execution_count": 28,
   "metadata": {
    "collapsed": true
   },
   "outputs": [],
   "source": [
    "datag.columns = ['country_name','year','govt_spending_education']"
   ]
  },
  {
   "cell_type": "code",
   "execution_count": 29,
   "metadata": {
    "collapsed": false
   },
   "outputs": [
    {
     "data": {
      "text/html": [
       "<div>\n",
       "<table border=\"1\" class=\"dataframe\">\n",
       "  <thead>\n",
       "    <tr style=\"text-align: right;\">\n",
       "      <th></th>\n",
       "      <th>country_name</th>\n",
       "      <th>year</th>\n",
       "      <th>govt_spending_education</th>\n",
       "    </tr>\n",
       "  </thead>\n",
       "  <tbody>\n",
       "    <tr>\n",
       "      <th>0</th>\n",
       "      <td>Aruba</td>\n",
       "      <td>2005</td>\n",
       "      <td>4.68076</td>\n",
       "    </tr>\n",
       "    <tr>\n",
       "      <th>1</th>\n",
       "      <td>Afghanistan</td>\n",
       "      <td>2005</td>\n",
       "      <td>NaN</td>\n",
       "    </tr>\n",
       "    <tr>\n",
       "      <th>2</th>\n",
       "      <td>Angola</td>\n",
       "      <td>2005</td>\n",
       "      <td>2.77620</td>\n",
       "    </tr>\n",
       "    <tr>\n",
       "      <th>3</th>\n",
       "      <td>Albania</td>\n",
       "      <td>2005</td>\n",
       "      <td>3.23872</td>\n",
       "    </tr>\n",
       "    <tr>\n",
       "      <th>4</th>\n",
       "      <td>Andorra</td>\n",
       "      <td>2005</td>\n",
       "      <td>1.60025</td>\n",
       "    </tr>\n",
       "  </tbody>\n",
       "</table>\n",
       "</div>"
      ],
      "text/plain": [
       "  country_name  year  govt_spending_education\n",
       "0        Aruba  2005                  4.68076\n",
       "1  Afghanistan  2005                      NaN\n",
       "2       Angola  2005                  2.77620\n",
       "3      Albania  2005                  3.23872\n",
       "4      Andorra  2005                  1.60025"
      ]
     },
     "execution_count": 29,
     "metadata": {},
     "output_type": "execute_result"
    }
   ],
   "source": [
    "datag.head()"
   ]
  },
  {
   "cell_type": "code",
   "execution_count": 30,
   "metadata": {
    "collapsed": false
   },
   "outputs": [
    {
     "data": {
      "text/plain": [
       "country_name                object\n",
       "year                        object\n",
       "govt_spending_education    float64\n",
       "dtype: object"
      ]
     },
     "execution_count": 30,
     "metadata": {},
     "output_type": "execute_result"
    }
   ],
   "source": [
    "datag.dtypes"
   ]
  },
  {
   "cell_type": "code",
   "execution_count": 31,
   "metadata": {
    "collapsed": true
   },
   "outputs": [],
   "source": [
    "datag_final = datag.apply(pd.to_numeric, errors='ignore')"
   ]
  },
  {
   "cell_type": "code",
   "execution_count": 33,
   "metadata": {
    "collapsed": false
   },
   "outputs": [
    {
     "data": {
      "text/plain": [
       "country_name                object\n",
       "year                         int64\n",
       "govt_spending_education    float64\n",
       "dtype: object"
      ]
     },
     "execution_count": 33,
     "metadata": {},
     "output_type": "execute_result"
    }
   ],
   "source": [
    "datag_final.dtypes"
   ]
  },
  {
   "cell_type": "code",
   "execution_count": 34,
   "metadata": {
    "collapsed": true
   },
   "outputs": [],
   "source": [
    "datag_final.to_csv('How_Govt_Spends_on_Education.csv')"
   ]
  },
  {
   "cell_type": "markdown",
   "metadata": {
    "collapsed": true
   },
   "source": []
  },
  {
   "cell_type": "markdown",
   "metadata": {},
   "source": [
    "## End of Data Wrangling"
   ]
  }
 ],
 "metadata": {
  "kernelspec": {
   "display_name": "Python 3",
   "language": "python",
   "name": "python3"
  },
  "language_info": {
   "codemirror_mode": {
    "name": "ipython",
    "version": 3
   },
   "file_extension": ".py",
   "mimetype": "text/x-python",
   "name": "python",
   "nbconvert_exporter": "python",
   "pygments_lexer": "ipython3",
   "version": "3.6.0"
  }
 },
 "nbformat": 4,
 "nbformat_minor": 0
}
